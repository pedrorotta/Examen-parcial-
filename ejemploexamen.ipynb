{
  "nbformat": 4,
  "nbformat_minor": 0,
  "metadata": {
    "colab": {
      "name": "ejemploexamen.ipynb",
      "provenance": [],
      "authorship_tag": "ABX9TyP74G5faRIVrjvL6XTKPzlD",
      "include_colab_link": true
    },
    "kernelspec": {
      "name": "python3",
      "display_name": "Python 3"
    },
    "language_info": {
      "name": "python"
    }
  },
  "cells": [
    {
      "cell_type": "markdown",
      "metadata": {
        "id": "view-in-github",
        "colab_type": "text"
      },
      "source": [
        "<a href=\"https://colab.research.google.com/github/pedrorotta/Examen-parcial-/blob/main/ejemploexamen.ipynb\" target=\"_parent\"><img src=\"https://colab.research.google.com/assets/colab-badge.svg\" alt=\"Open In Colab\"/></a>"
      ]
    },
    {
      "cell_type": "markdown",
      "metadata": {
        "id": "zTNMqVQRsj10"
      },
      "source": [
        "#Examen 1 de Análisis de datos"
      ]
    },
    {
      "cell_type": "markdown",
      "metadata": {
        "id": "XIW04TGdsoB7"
      },
      "source": [
        "## Pregunta 1"
      ]
    },
    {
      "cell_type": "code",
      "metadata": {
        "id": "LTe8JCPGsePA"
      },
      "source": [
        ""
      ],
      "execution_count": null,
      "outputs": []
    }
  ]
}