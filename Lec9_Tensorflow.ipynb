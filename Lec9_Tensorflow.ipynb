{
  "nbformat": 4,
  "nbformat_minor": 0,
  "metadata": {
    "colab": {
      "name": "Lec9_Tensorflow.ipynb",
      "provenance": [],
      "authorship_tag": "ABX9TyPqmPJNGElSgU9XwRD9eHRi",
      "include_colab_link": true
    },
    "kernelspec": {
      "name": "python3",
      "display_name": "Python 3"
    },
    "language_info": {
      "name": "python"
    }
  },
  "cells": [
    {
      "cell_type": "markdown",
      "metadata": {
        "id": "view-in-github",
        "colab_type": "text"
      },
      "source": [
        "<a href=\"https://colab.research.google.com/github/pedrorotta/Examen-parcial-/blob/main/Lec9_Tensorflow.ipynb\" target=\"_parent\"><img src=\"https://colab.research.google.com/assets/colab-badge.svg\" alt=\"Open In Colab\"/></a>"
      ]
    },
    {
      "cell_type": "markdown",
      "source": [
        "## Problema 1"
      ],
      "metadata": {
        "id": "Kgx5LS4DzZow"
      }
    },
    {
      "cell_type": "code",
      "source": [
        "!pip uninstall openpyxl"
      ],
      "metadata": {
        "colab": {
          "base_uri": "https://localhost:8080/"
        },
        "id": "cnTk5-IpKXgr",
        "outputId": "86adb188-abc8-479d-8d1d-4ed75e91e1c9"
      },
      "execution_count": 13,
      "outputs": [
        {
          "output_type": "stream",
          "name": "stdout",
          "text": [
            "Found existing installation: openpyxl 2.5.9\n",
            "Uninstalling openpyxl-2.5.9:\n",
            "  Would remove:\n",
            "    /usr/local/lib/python3.7/dist-packages/openpyxl-2.5.9.dist-info/*\n",
            "    /usr/local/lib/python3.7/dist-packages/openpyxl/*\n",
            "Proceed (y/n)? y\n",
            "  Successfully uninstalled openpyxl-2.5.9\n"
          ]
        }
      ]
    },
    {
      "cell_type": "code",
      "source": [
        "!pip install openpyxl"
      ],
      "metadata": {
        "colab": {
          "base_uri": "https://localhost:8080/",
          "height": 207
        },
        "id": "rgJaDlgjLAyx",
        "outputId": "40a606d1-eaee-4877-e4cc-a7d36e44af4e"
      },
      "execution_count": 14,
      "outputs": [
        {
          "output_type": "stream",
          "name": "stdout",
          "text": [
            "Collecting openpyxl\n",
            "  Downloading openpyxl-3.0.9-py2.py3-none-any.whl (242 kB)\n",
            "\u001b[?25l\r\u001b[K     |█▍                              | 10 kB 24.3 MB/s eta 0:00:01\r\u001b[K     |██▊                             | 20 kB 15.3 MB/s eta 0:00:01\r\u001b[K     |████                            | 30 kB 11.1 MB/s eta 0:00:01\r\u001b[K     |█████▍                          | 40 kB 9.3 MB/s eta 0:00:01\r\u001b[K     |██████▊                         | 51 kB 5.5 MB/s eta 0:00:01\r\u001b[K     |████████▏                       | 61 kB 5.9 MB/s eta 0:00:01\r\u001b[K     |█████████▌                      | 71 kB 5.9 MB/s eta 0:00:01\r\u001b[K     |██████████▉                     | 81 kB 6.6 MB/s eta 0:00:01\r\u001b[K     |████████████▏                   | 92 kB 5.0 MB/s eta 0:00:01\r\u001b[K     |█████████████▌                  | 102 kB 5.3 MB/s eta 0:00:01\r\u001b[K     |██████████████▉                 | 112 kB 5.3 MB/s eta 0:00:01\r\u001b[K     |████████████████▎               | 122 kB 5.3 MB/s eta 0:00:01\r\u001b[K     |█████████████████▋              | 133 kB 5.3 MB/s eta 0:00:01\r\u001b[K     |███████████████████             | 143 kB 5.3 MB/s eta 0:00:01\r\u001b[K     |████████████████████▎           | 153 kB 5.3 MB/s eta 0:00:01\r\u001b[K     |█████████████████████▋          | 163 kB 5.3 MB/s eta 0:00:01\r\u001b[K     |███████████████████████         | 174 kB 5.3 MB/s eta 0:00:01\r\u001b[K     |████████████████████████▍       | 184 kB 5.3 MB/s eta 0:00:01\r\u001b[K     |█████████████████████████▊      | 194 kB 5.3 MB/s eta 0:00:01\r\u001b[K     |███████████████████████████     | 204 kB 5.3 MB/s eta 0:00:01\r\u001b[K     |████████████████████████████▍   | 215 kB 5.3 MB/s eta 0:00:01\r\u001b[K     |█████████████████████████████▊  | 225 kB 5.3 MB/s eta 0:00:01\r\u001b[K     |███████████████████████████████▏| 235 kB 5.3 MB/s eta 0:00:01\r\u001b[K     |████████████████████████████████| 242 kB 5.3 MB/s \n",
            "\u001b[?25hRequirement already satisfied: et-xmlfile in /usr/local/lib/python3.7/dist-packages (from openpyxl) (1.1.0)\n",
            "Installing collected packages: openpyxl\n",
            "Successfully installed openpyxl-3.0.9\n"
          ]
        },
        {
          "output_type": "display_data",
          "data": {
            "application/vnd.colab-display-data+json": {
              "pip_warning": {
                "packages": [
                  "openpyxl"
                ]
              }
            }
          },
          "metadata": {}
        }
      ]
    },
    {
      "cell_type": "code",
      "execution_count": 4,
      "metadata": {
        "colab": {
          "base_uri": "https://localhost:8080/",
          "height": 206
        },
        "id": "wWpwt_YVzQf_",
        "outputId": "ffe5d082-851f-4fff-f4a6-78a181323412"
      },
      "outputs": [
        {
          "output_type": "display_data",
          "data": {
            "text/html": [
              "\n",
              "  <div id=\"df-58e4188e-1237-468a-8d3f-27c1c34b89e8\">\n",
              "    <div class=\"colab-df-container\">\n",
              "      <div>\n",
              "<style scoped>\n",
              "    .dataframe tbody tr th:only-of-type {\n",
              "        vertical-align: middle;\n",
              "    }\n",
              "\n",
              "    .dataframe tbody tr th {\n",
              "        vertical-align: top;\n",
              "    }\n",
              "\n",
              "    .dataframe thead th {\n",
              "        text-align: right;\n",
              "    }\n",
              "</style>\n",
              "<table border=\"1\" class=\"dataframe\">\n",
              "  <thead>\n",
              "    <tr style=\"text-align: right;\">\n",
              "      <th></th>\n",
              "      <th>Precio</th>\n",
              "      <th>Área(m2)</th>\n",
              "      <th>Cuartos</th>\n",
              "      <th>Baños</th>\n",
              "      <th>Ubicación</th>\n",
              "    </tr>\n",
              "  </thead>\n",
              "  <tbody>\n",
              "    <tr>\n",
              "      <th>0</th>\n",
              "      <td>612.0</td>\n",
              "      <td>333.0</td>\n",
              "      <td>6.0</td>\n",
              "      <td>6.0</td>\n",
              "      <td>Asentamiento Humano</td>\n",
              "    </tr>\n",
              "    <tr>\n",
              "      <th>1</th>\n",
              "      <td>380.0</td>\n",
              "      <td>153.0</td>\n",
              "      <td>3.0</td>\n",
              "      <td>2.0</td>\n",
              "      <td>Urbanización</td>\n",
              "    </tr>\n",
              "    <tr>\n",
              "      <th>2</th>\n",
              "      <td>428.0</td>\n",
              "      <td>320.0</td>\n",
              "      <td>5.0</td>\n",
              "      <td>2.0</td>\n",
              "      <td>Urbanización</td>\n",
              "    </tr>\n",
              "    <tr>\n",
              "      <th>3</th>\n",
              "      <td>370.5</td>\n",
              "      <td>120.0</td>\n",
              "      <td>2.0</td>\n",
              "      <td>1.0</td>\n",
              "      <td>Condominio</td>\n",
              "    </tr>\n",
              "    <tr>\n",
              "      <th>4</th>\n",
              "      <td>2535.0</td>\n",
              "      <td>550.0</td>\n",
              "      <td>6.0</td>\n",
              "      <td>8.0</td>\n",
              "      <td>Fundo</td>\n",
              "    </tr>\n",
              "  </tbody>\n",
              "</table>\n",
              "</div>\n",
              "      <button class=\"colab-df-convert\" onclick=\"convertToInteractive('df-58e4188e-1237-468a-8d3f-27c1c34b89e8')\"\n",
              "              title=\"Convert this dataframe to an interactive table.\"\n",
              "              style=\"display:none;\">\n",
              "        \n",
              "  <svg xmlns=\"http://www.w3.org/2000/svg\" height=\"24px\"viewBox=\"0 0 24 24\"\n",
              "       width=\"24px\">\n",
              "    <path d=\"M0 0h24v24H0V0z\" fill=\"none\"/>\n",
              "    <path d=\"M18.56 5.44l.94 2.06.94-2.06 2.06-.94-2.06-.94-.94-2.06-.94 2.06-2.06.94zm-11 1L8.5 8.5l.94-2.06 2.06-.94-2.06-.94L8.5 2.5l-.94 2.06-2.06.94zm10 10l.94 2.06.94-2.06 2.06-.94-2.06-.94-.94-2.06-.94 2.06-2.06.94z\"/><path d=\"M17.41 7.96l-1.37-1.37c-.4-.4-.92-.59-1.43-.59-.52 0-1.04.2-1.43.59L10.3 9.45l-7.72 7.72c-.78.78-.78 2.05 0 2.83L4 21.41c.39.39.9.59 1.41.59.51 0 1.02-.2 1.41-.59l7.78-7.78 2.81-2.81c.8-.78.8-2.07 0-2.86zM5.41 20L4 18.59l7.72-7.72 1.47 1.35L5.41 20z\"/>\n",
              "  </svg>\n",
              "      </button>\n",
              "      \n",
              "  <style>\n",
              "    .colab-df-container {\n",
              "      display:flex;\n",
              "      flex-wrap:wrap;\n",
              "      gap: 12px;\n",
              "    }\n",
              "\n",
              "    .colab-df-convert {\n",
              "      background-color: #E8F0FE;\n",
              "      border: none;\n",
              "      border-radius: 50%;\n",
              "      cursor: pointer;\n",
              "      display: none;\n",
              "      fill: #1967D2;\n",
              "      height: 32px;\n",
              "      padding: 0 0 0 0;\n",
              "      width: 32px;\n",
              "    }\n",
              "\n",
              "    .colab-df-convert:hover {\n",
              "      background-color: #E2EBFA;\n",
              "      box-shadow: 0px 1px 2px rgba(60, 64, 67, 0.3), 0px 1px 3px 1px rgba(60, 64, 67, 0.15);\n",
              "      fill: #174EA6;\n",
              "    }\n",
              "\n",
              "    [theme=dark] .colab-df-convert {\n",
              "      background-color: #3B4455;\n",
              "      fill: #D2E3FC;\n",
              "    }\n",
              "\n",
              "    [theme=dark] .colab-df-convert:hover {\n",
              "      background-color: #434B5C;\n",
              "      box-shadow: 0px 1px 3px 1px rgba(0, 0, 0, 0.15);\n",
              "      filter: drop-shadow(0px 1px 2px rgba(0, 0, 0, 0.3));\n",
              "      fill: #FFFFFF;\n",
              "    }\n",
              "  </style>\n",
              "\n",
              "      <script>\n",
              "        const buttonEl =\n",
              "          document.querySelector('#df-58e4188e-1237-468a-8d3f-27c1c34b89e8 button.colab-df-convert');\n",
              "        buttonEl.style.display =\n",
              "          google.colab.kernel.accessAllowed ? 'block' : 'none';\n",
              "\n",
              "        async function convertToInteractive(key) {\n",
              "          const element = document.querySelector('#df-58e4188e-1237-468a-8d3f-27c1c34b89e8');\n",
              "          const dataTable =\n",
              "            await google.colab.kernel.invokeFunction('convertToInteractive',\n",
              "                                                     [key], {});\n",
              "          if (!dataTable) return;\n",
              "\n",
              "          const docLinkHtml = 'Like what you see? Visit the ' +\n",
              "            '<a target=\"_blank\" href=https://colab.research.google.com/notebooks/data_table.ipynb>data table notebook</a>'\n",
              "            + ' to learn more about interactive tables.';\n",
              "          element.innerHTML = '';\n",
              "          dataTable['output_type'] = 'display_data';\n",
              "          await google.colab.output.renderOutput(dataTable, element);\n",
              "          const docLink = document.createElement('div');\n",
              "          docLink.innerHTML = docLinkHtml;\n",
              "          element.appendChild(docLink);\n",
              "        }\n",
              "      </script>\n",
              "    </div>\n",
              "  </div>\n",
              "  "
            ],
            "text/plain": [
              "   Precio  Área(m2)  Cuartos  Baños            Ubicación\n",
              "0   612.0     333.0      6.0    6.0  Asentamiento Humano\n",
              "1   380.0     153.0      3.0    2.0         Urbanización\n",
              "2   428.0     320.0      5.0    2.0         Urbanización\n",
              "3   370.5     120.0      2.0    1.0           Condominio\n",
              "4  2535.0     550.0      6.0    8.0                Fundo"
            ]
          },
          "metadata": {}
        }
      ],
      "source": [
        "\"\"\"\n",
        "Describe un modelo de regresión lineal simple para la data de casas\n",
        "\"\"\"\n",
        "import pandas as pd\n",
        "casasdf = pd.read_excel(\"/content/Lec2_Prob1.xlsx\")\n",
        "display(casasdf.head())"
      ]
    },
    {
      "cell_type": "code",
      "source": [
        "import numpy as np\n",
        "import tensorflow as tf\n",
        "from sklearn.model_selection import train_test_split as tts\n",
        "from sklearn.metrics import r2_score\n",
        "\n",
        "#Separación de X & y. \n",
        "tf.random.set_seed(32)\n",
        "X = np.array(casasdf['Área(m2)'])\n",
        "y = np.array(casasdf['Precio'])\n",
        "#------------------------------------------\n",
        "\n",
        "#Conversión dimensional\n",
        "X = np.reshape(X,(len(X),1))\n",
        "y = np.reshape(y,(len(y),1))\n",
        "#------------------------------------------\n",
        "\n",
        "#Dividir\n",
        "Xtrain,Xtest,ytrain,ytest = tts(X,y)\n"
      ],
      "metadata": {
        "id": "t4yCwkanMT9H"
      },
      "execution_count": 21,
      "outputs": []
    },
    {
      "cell_type": "code",
      "source": [
        "from sklearn.preprocessing import MinMaxScaler\n",
        "\n",
        "scaler1 = MinMaxScaler()\n",
        "X2 = scaler1.fit_transform(X)\n",
        "y2 = scaler1.fit_transform(y)"
      ],
      "metadata": {
        "id": "rx0ESrtMWlFc"
      },
      "execution_count": 33,
      "outputs": []
    },
    {
      "cell_type": "code",
      "source": [
        "import matplotlib.pylab as plt\n",
        "X2train,X2test,y2train,y2test = tts(X2,y2,test_size=0.40)"
      ],
      "metadata": {
        "id": "3iunsOg5WbVb"
      },
      "execution_count": 44,
      "outputs": []
    },
    {
      "cell_type": "code",
      "source": [
        "#Definir el modelo: Tensorflow\n",
        "\n",
        "#######################################\n",
        "#Vamos a usar Sequential primero, para hacer el marco del modelo\n",
        "\n",
        "modeloNN1 = tf.keras.Sequential([\n",
        "\n",
        "   tf.keras.Input(shape=(1,)),\n",
        "   tf.keras.layers.Dense(1,activation='linear'),                             \n",
        "                               \n",
        "\n",
        "])\n",
        "\n",
        "#################### Compilar el modelo\n",
        "modeloNN1.compile(loss =  tf.keras.losses.mse, optimizer = tf.keras.optimizers.SGD(),\n",
        "                  metrics = ['mae'])"
      ],
      "metadata": {
        "id": "COk4QkJ8Ofra"
      },
      "execution_count": 45,
      "outputs": []
    },
    {
      "cell_type": "code",
      "source": [
        "\n",
        "ajuste = modeloNN1.fit(X2train,y2train,epochs=100)"
      ],
      "metadata": {
        "colab": {
          "base_uri": "https://localhost:8080/"
        },
        "id": "ka8bQDspTCpC",
        "outputId": "1b0f8cba-68e8-48c9-a838-edda8d03e8a3"
      },
      "execution_count": 46,
      "outputs": [
        {
          "output_type": "stream",
          "name": "stdout",
          "text": [
            "Epoch 1/100\n",
            "1/1 [==============================] - 0s 313ms/step - loss: 0.0310 - mae: 0.1293\n",
            "Epoch 2/100\n",
            "1/1 [==============================] - 0s 7ms/step - loss: 0.0308 - mae: 0.1288\n",
            "Epoch 3/100\n",
            "1/1 [==============================] - 0s 9ms/step - loss: 0.0306 - mae: 0.1284\n",
            "Epoch 4/100\n",
            "1/1 [==============================] - 0s 4ms/step - loss: 0.0304 - mae: 0.1280\n",
            "Epoch 5/100\n",
            "1/1 [==============================] - 0s 5ms/step - loss: 0.0302 - mae: 0.1276\n",
            "Epoch 6/100\n",
            "1/1 [==============================] - 0s 6ms/step - loss: 0.0300 - mae: 0.1272\n",
            "Epoch 7/100\n",
            "1/1 [==============================] - 0s 8ms/step - loss: 0.0298 - mae: 0.1270\n",
            "Epoch 8/100\n",
            "1/1 [==============================] - 0s 5ms/step - loss: 0.0297 - mae: 0.1268\n",
            "Epoch 9/100\n",
            "1/1 [==============================] - 0s 8ms/step - loss: 0.0295 - mae: 0.1266\n",
            "Epoch 10/100\n",
            "1/1 [==============================] - 0s 5ms/step - loss: 0.0293 - mae: 0.1264\n",
            "Epoch 11/100\n",
            "1/1 [==============================] - 0s 7ms/step - loss: 0.0292 - mae: 0.1262\n",
            "Epoch 12/100\n",
            "1/1 [==============================] - 0s 9ms/step - loss: 0.0290 - mae: 0.1260\n",
            "Epoch 13/100\n",
            "1/1 [==============================] - 0s 4ms/step - loss: 0.0289 - mae: 0.1258\n",
            "Epoch 14/100\n",
            "1/1 [==============================] - 0s 5ms/step - loss: 0.0287 - mae: 0.1256\n",
            "Epoch 15/100\n",
            "1/1 [==============================] - 0s 9ms/step - loss: 0.0286 - mae: 0.1254\n",
            "Epoch 16/100\n",
            "1/1 [==============================] - 0s 4ms/step - loss: 0.0285 - mae: 0.1252\n",
            "Epoch 17/100\n",
            "1/1 [==============================] - 0s 9ms/step - loss: 0.0284 - mae: 0.1250\n",
            "Epoch 18/100\n",
            "1/1 [==============================] - 0s 4ms/step - loss: 0.0283 - mae: 0.1250\n",
            "Epoch 19/100\n",
            "1/1 [==============================] - 0s 7ms/step - loss: 0.0281 - mae: 0.1250\n",
            "Epoch 20/100\n",
            "1/1 [==============================] - 0s 10ms/step - loss: 0.0280 - mae: 0.1249\n",
            "Epoch 21/100\n",
            "1/1 [==============================] - 0s 4ms/step - loss: 0.0279 - mae: 0.1249\n",
            "Epoch 22/100\n",
            "1/1 [==============================] - 0s 4ms/step - loss: 0.0278 - mae: 0.1249\n",
            "Epoch 23/100\n",
            "1/1 [==============================] - 0s 6ms/step - loss: 0.0277 - mae: 0.1249\n",
            "Epoch 24/100\n",
            "1/1 [==============================] - 0s 6ms/step - loss: 0.0277 - mae: 0.1248\n",
            "Epoch 25/100\n",
            "1/1 [==============================] - 0s 7ms/step - loss: 0.0276 - mae: 0.1248\n",
            "Epoch 26/100\n",
            "1/1 [==============================] - 0s 4ms/step - loss: 0.0275 - mae: 0.1248\n",
            "Epoch 27/100\n",
            "1/1 [==============================] - 0s 6ms/step - loss: 0.0274 - mae: 0.1247\n",
            "Epoch 28/100\n",
            "1/1 [==============================] - 0s 6ms/step - loss: 0.0273 - mae: 0.1247\n",
            "Epoch 29/100\n",
            "1/1 [==============================] - 0s 6ms/step - loss: 0.0272 - mae: 0.1247\n",
            "Epoch 30/100\n",
            "1/1 [==============================] - 0s 5ms/step - loss: 0.0272 - mae: 0.1246\n",
            "Epoch 31/100\n",
            "1/1 [==============================] - 0s 7ms/step - loss: 0.0271 - mae: 0.1246\n",
            "Epoch 32/100\n",
            "1/1 [==============================] - 0s 7ms/step - loss: 0.0270 - mae: 0.1246\n",
            "Epoch 33/100\n",
            "1/1 [==============================] - 0s 7ms/step - loss: 0.0270 - mae: 0.1246\n",
            "Epoch 34/100\n",
            "1/1 [==============================] - 0s 5ms/step - loss: 0.0269 - mae: 0.1245\n",
            "Epoch 35/100\n",
            "1/1 [==============================] - 0s 7ms/step - loss: 0.0269 - mae: 0.1245\n",
            "Epoch 36/100\n",
            "1/1 [==============================] - 0s 6ms/step - loss: 0.0268 - mae: 0.1245\n",
            "Epoch 37/100\n",
            "1/1 [==============================] - 0s 10ms/step - loss: 0.0267 - mae: 0.1244\n",
            "Epoch 38/100\n",
            "1/1 [==============================] - 0s 4ms/step - loss: 0.0267 - mae: 0.1244\n",
            "Epoch 39/100\n",
            "1/1 [==============================] - 0s 13ms/step - loss: 0.0266 - mae: 0.1244\n",
            "Epoch 40/100\n",
            "1/1 [==============================] - 0s 8ms/step - loss: 0.0266 - mae: 0.1244\n",
            "Epoch 41/100\n",
            "1/1 [==============================] - 0s 9ms/step - loss: 0.0266 - mae: 0.1243\n",
            "Epoch 42/100\n",
            "1/1 [==============================] - 0s 6ms/step - loss: 0.0265 - mae: 0.1243\n",
            "Epoch 43/100\n",
            "1/1 [==============================] - 0s 8ms/step - loss: 0.0265 - mae: 0.1243\n",
            "Epoch 44/100\n",
            "1/1 [==============================] - 0s 6ms/step - loss: 0.0264 - mae: 0.1243\n",
            "Epoch 45/100\n",
            "1/1 [==============================] - 0s 5ms/step - loss: 0.0264 - mae: 0.1242\n",
            "Epoch 46/100\n",
            "1/1 [==============================] - 0s 8ms/step - loss: 0.0263 - mae: 0.1242\n",
            "Epoch 47/100\n",
            "1/1 [==============================] - 0s 4ms/step - loss: 0.0263 - mae: 0.1242\n",
            "Epoch 48/100\n",
            "1/1 [==============================] - 0s 6ms/step - loss: 0.0263 - mae: 0.1242\n",
            "Epoch 49/100\n",
            "1/1 [==============================] - 0s 4ms/step - loss: 0.0262 - mae: 0.1241\n",
            "Epoch 50/100\n",
            "1/1 [==============================] - 0s 5ms/step - loss: 0.0262 - mae: 0.1241\n",
            "Epoch 51/100\n",
            "1/1 [==============================] - 0s 15ms/step - loss: 0.0262 - mae: 0.1241\n",
            "Epoch 52/100\n",
            "1/1 [==============================] - 0s 7ms/step - loss: 0.0261 - mae: 0.1241\n",
            "Epoch 53/100\n",
            "1/1 [==============================] - 0s 7ms/step - loss: 0.0261 - mae: 0.1240\n",
            "Epoch 54/100\n",
            "1/1 [==============================] - 0s 5ms/step - loss: 0.0261 - mae: 0.1240\n",
            "Epoch 55/100\n",
            "1/1 [==============================] - 0s 8ms/step - loss: 0.0260 - mae: 0.1240\n",
            "Epoch 56/100\n",
            "1/1 [==============================] - 0s 6ms/step - loss: 0.0260 - mae: 0.1240\n",
            "Epoch 57/100\n",
            "1/1 [==============================] - 0s 4ms/step - loss: 0.0260 - mae: 0.1239\n",
            "Epoch 58/100\n",
            "1/1 [==============================] - 0s 3ms/step - loss: 0.0260 - mae: 0.1239\n",
            "Epoch 59/100\n",
            "1/1 [==============================] - 0s 4ms/step - loss: 0.0259 - mae: 0.1239\n",
            "Epoch 60/100\n",
            "1/1 [==============================] - 0s 9ms/step - loss: 0.0259 - mae: 0.1239\n",
            "Epoch 61/100\n",
            "1/1 [==============================] - 0s 4ms/step - loss: 0.0259 - mae: 0.1239\n",
            "Epoch 62/100\n",
            "1/1 [==============================] - 0s 7ms/step - loss: 0.0259 - mae: 0.1238\n",
            "Epoch 63/100\n",
            "1/1 [==============================] - 0s 4ms/step - loss: 0.0259 - mae: 0.1238\n",
            "Epoch 64/100\n",
            "1/1 [==============================] - 0s 6ms/step - loss: 0.0258 - mae: 0.1238\n",
            "Epoch 65/100\n",
            "1/1 [==============================] - 0s 7ms/step - loss: 0.0258 - mae: 0.1238\n",
            "Epoch 66/100\n",
            "1/1 [==============================] - 0s 7ms/step - loss: 0.0258 - mae: 0.1237\n",
            "Epoch 67/100\n",
            "1/1 [==============================] - 0s 6ms/step - loss: 0.0258 - mae: 0.1237\n",
            "Epoch 68/100\n",
            "1/1 [==============================] - 0s 5ms/step - loss: 0.0258 - mae: 0.1237\n",
            "Epoch 69/100\n",
            "1/1 [==============================] - 0s 7ms/step - loss: 0.0257 - mae: 0.1237\n",
            "Epoch 70/100\n",
            "1/1 [==============================] - 0s 14ms/step - loss: 0.0257 - mae: 0.1237\n",
            "Epoch 71/100\n",
            "1/1 [==============================] - 0s 8ms/step - loss: 0.0257 - mae: 0.1236\n",
            "Epoch 72/100\n",
            "1/1 [==============================] - 0s 6ms/step - loss: 0.0257 - mae: 0.1236\n",
            "Epoch 73/100\n",
            "1/1 [==============================] - 0s 7ms/step - loss: 0.0257 - mae: 0.1236\n",
            "Epoch 74/100\n",
            "1/1 [==============================] - 0s 5ms/step - loss: 0.0257 - mae: 0.1236\n",
            "Epoch 75/100\n",
            "1/1 [==============================] - 0s 7ms/step - loss: 0.0256 - mae: 0.1236\n",
            "Epoch 76/100\n",
            "1/1 [==============================] - 0s 6ms/step - loss: 0.0256 - mae: 0.1235\n",
            "Epoch 77/100\n",
            "1/1 [==============================] - 0s 6ms/step - loss: 0.0256 - mae: 0.1235\n",
            "Epoch 78/100\n",
            "1/1 [==============================] - 0s 4ms/step - loss: 0.0256 - mae: 0.1235\n",
            "Epoch 79/100\n",
            "1/1 [==============================] - 0s 6ms/step - loss: 0.0256 - mae: 0.1235\n",
            "Epoch 80/100\n",
            "1/1 [==============================] - 0s 10ms/step - loss: 0.0256 - mae: 0.1235\n",
            "Epoch 81/100\n",
            "1/1 [==============================] - 0s 5ms/step - loss: 0.0256 - mae: 0.1234\n",
            "Epoch 82/100\n",
            "1/1 [==============================] - 0s 6ms/step - loss: 0.0255 - mae: 0.1234\n",
            "Epoch 83/100\n",
            "1/1 [==============================] - 0s 5ms/step - loss: 0.0255 - mae: 0.1234\n",
            "Epoch 84/100\n",
            "1/1 [==============================] - 0s 6ms/step - loss: 0.0255 - mae: 0.1234\n",
            "Epoch 85/100\n",
            "1/1 [==============================] - 0s 6ms/step - loss: 0.0255 - mae: 0.1234\n",
            "Epoch 86/100\n",
            "1/1 [==============================] - 0s 6ms/step - loss: 0.0255 - mae: 0.1233\n",
            "Epoch 87/100\n",
            "1/1 [==============================] - 0s 6ms/step - loss: 0.0255 - mae: 0.1233\n",
            "Epoch 88/100\n",
            "1/1 [==============================] - 0s 5ms/step - loss: 0.0255 - mae: 0.1233\n",
            "Epoch 89/100\n",
            "1/1 [==============================] - 0s 7ms/step - loss: 0.0255 - mae: 0.1233\n",
            "Epoch 90/100\n",
            "1/1 [==============================] - 0s 5ms/step - loss: 0.0255 - mae: 0.1233\n",
            "Epoch 91/100\n",
            "1/1 [==============================] - 0s 6ms/step - loss: 0.0254 - mae: 0.1232\n",
            "Epoch 92/100\n",
            "1/1 [==============================] - 0s 7ms/step - loss: 0.0254 - mae: 0.1232\n",
            "Epoch 93/100\n",
            "1/1 [==============================] - 0s 9ms/step - loss: 0.0254 - mae: 0.1232\n",
            "Epoch 94/100\n",
            "1/1 [==============================] - 0s 8ms/step - loss: 0.0254 - mae: 0.1232\n",
            "Epoch 95/100\n",
            "1/1 [==============================] - 0s 9ms/step - loss: 0.0254 - mae: 0.1232\n",
            "Epoch 96/100\n",
            "1/1 [==============================] - 0s 10ms/step - loss: 0.0254 - mae: 0.1232\n",
            "Epoch 97/100\n",
            "1/1 [==============================] - 0s 13ms/step - loss: 0.0254 - mae: 0.1231\n",
            "Epoch 98/100\n",
            "1/1 [==============================] - 0s 6ms/step - loss: 0.0254 - mae: 0.1231\n",
            "Epoch 99/100\n",
            "1/1 [==============================] - 0s 8ms/step - loss: 0.0254 - mae: 0.1231\n",
            "Epoch 100/100\n",
            "1/1 [==============================] - 0s 4ms/step - loss: 0.0254 - mae: 0.1231\n"
          ]
        }
      ]
    },
    {
      "cell_type": "code",
      "source": [
        "# Evaluamos para X2Test\n",
        "ypredicho2 = modeloNN1.predict(X2test)\n",
        "r2model1 = r2_score(y2test,ypredicho2)\n",
        "print(r2model1)"
      ],
      "metadata": {
        "colab": {
          "base_uri": "https://localhost:8080/"
        },
        "id": "aB09Ck3DXZrZ",
        "outputId": "2173fd2f-a030-459d-cbe3-1491e4acceb4"
      },
      "execution_count": 47,
      "outputs": [
        {
          "output_type": "stream",
          "name": "stdout",
          "text": [
            "0.7682066073237419\n"
          ]
        }
      ]
    },
    {
      "cell_type": "code",
      "source": [
        "\"\"\"\n",
        "Describe un modelo de regresión lineal múltiple para la data de casas\n",
        "\"\"\"\n",
        "\n",
        "from sklearn.preprocessing import LabelEncoder\n",
        "\n",
        "Xlabel = np.array(casasdf['Ubicación'])\n",
        "\n",
        "Encoder = LabelEncoder()\n",
        "Encoder.fit(Xlabel)\n",
        "Xlabel = Encoder.fit_transform(Xlabel)"
      ],
      "metadata": {
        "id": "UU2l0KNUzgPu"
      },
      "execution_count": 49,
      "outputs": []
    },
    {
      "cell_type": "code",
      "source": [
        "Xdf = casasdf.drop(columns = ['Precio','Ubicación']) # El valor del df de los features\n",
        "Xdf['Ubicación'] = Xlabel"
      ],
      "metadata": {
        "id": "YyUVnk-Fa6r_"
      },
      "execution_count": 51,
      "outputs": []
    },
    {
      "cell_type": "code",
      "source": [
        "X = np.array(Xdf)"
      ],
      "metadata": {
        "id": "ar1eh5KebY2I"
      },
      "execution_count": 52,
      "outputs": []
    },
    {
      "cell_type": "code",
      "source": [
        "# Necesitamos y\n",
        "y = np.array(casasdf['Precio'])\n",
        "y = np.reshape(y,(len(y),1))"
      ],
      "metadata": {
        "id": "oBMO2sfEbtVS"
      },
      "execution_count": 53,
      "outputs": []
    },
    {
      "cell_type": "code",
      "source": [
        "## Escalar los datos\n",
        "Scaler = MinMaxScaler()\n",
        "Xl = Scaler.fit_transform(X)\n",
        "yl = Scaler.fit_transform(y)"
      ],
      "metadata": {
        "id": "j5ePnsc4b_Iu"
      },
      "execution_count": 56,
      "outputs": []
    },
    {
      "cell_type": "code",
      "source": [
        "Xltrain,Xltest,yltrain,yltest = tts(Xl,yl,test_size = 0.40)"
      ],
      "metadata": {
        "id": "YeZwMC3icS8U"
      },
      "execution_count": 59,
      "outputs": []
    },
    {
      "cell_type": "code",
      "source": [
        "modelo2NN = tf.keras.Sequential([\n",
        "       tf.keras.Input(shape = (4,)),\n",
        "       tf.keras.layers.Dense(4,activation='relu'),\n",
        "       tf.keras.layers.Dense(2,activation='relu'),\n",
        "       tf.keras.layers.Dense(1)                          \n",
        "])\n",
        "\n",
        "modelo2NN.compile(loss = tf.keras.losses.mse, \n",
        "                  optimizer = tf.keras.optimizers.SGD(),\n",
        "                  metrics = ['mae'])"
      ],
      "metadata": {
        "id": "S5RbqmkxceSL"
      },
      "execution_count": 60,
      "outputs": []
    },
    {
      "cell_type": "code",
      "source": [
        "modelo2NN.fit(Xltrain,yltrain,epochs= 30)"
      ],
      "metadata": {
        "colab": {
          "base_uri": "https://localhost:8080/"
        },
        "id": "_Ji7zkyjdfde",
        "outputId": "7dcfdbf5-bc06-4657-f12b-040d4d1d0ce8"
      },
      "execution_count": 62,
      "outputs": [
        {
          "output_type": "stream",
          "name": "stdout",
          "text": [
            "Epoch 1/30\n",
            "1/1 [==============================] - 0s 5ms/step - loss: 0.1167 - mae: 0.2564\n",
            "Epoch 2/30\n",
            "1/1 [==============================] - 0s 7ms/step - loss: 0.1140 - mae: 0.2519\n",
            "Epoch 3/30\n",
            "1/1 [==============================] - 0s 5ms/step - loss: 0.1114 - mae: 0.2475\n",
            "Epoch 4/30\n",
            "1/1 [==============================] - 0s 6ms/step - loss: 0.1089 - mae: 0.2435\n",
            "Epoch 5/30\n",
            "1/1 [==============================] - 0s 6ms/step - loss: 0.1066 - mae: 0.2400\n",
            "Epoch 6/30\n",
            "1/1 [==============================] - 0s 9ms/step - loss: 0.1043 - mae: 0.2365\n",
            "Epoch 7/30\n",
            "1/1 [==============================] - 0s 10ms/step - loss: 0.1021 - mae: 0.2331\n",
            "Epoch 8/30\n",
            "1/1 [==============================] - 0s 8ms/step - loss: 0.1000 - mae: 0.2298\n",
            "Epoch 9/30\n",
            "1/1 [==============================] - 0s 8ms/step - loss: 0.0980 - mae: 0.2266\n",
            "Epoch 10/30\n",
            "1/1 [==============================] - 0s 9ms/step - loss: 0.0960 - mae: 0.2234\n",
            "Epoch 11/30\n",
            "1/1 [==============================] - 0s 8ms/step - loss: 0.0942 - mae: 0.2203\n",
            "Epoch 12/30\n",
            "1/1 [==============================] - 0s 5ms/step - loss: 0.0924 - mae: 0.2172\n",
            "Epoch 13/30\n",
            "1/1 [==============================] - 0s 6ms/step - loss: 0.0907 - mae: 0.2145\n",
            "Epoch 14/30\n",
            "1/1 [==============================] - 0s 5ms/step - loss: 0.0890 - mae: 0.2122\n",
            "Epoch 15/30\n",
            "1/1 [==============================] - 0s 6ms/step - loss: 0.0874 - mae: 0.2099\n",
            "Epoch 16/30\n",
            "1/1 [==============================] - 0s 6ms/step - loss: 0.0859 - mae: 0.2076\n",
            "Epoch 17/30\n",
            "1/1 [==============================] - 0s 5ms/step - loss: 0.0845 - mae: 0.2056\n",
            "Epoch 18/30\n",
            "1/1 [==============================] - 0s 6ms/step - loss: 0.0831 - mae: 0.2045\n",
            "Epoch 19/30\n",
            "1/1 [==============================] - 0s 4ms/step - loss: 0.0817 - mae: 0.2034\n",
            "Epoch 20/30\n",
            "1/1 [==============================] - 0s 5ms/step - loss: 0.0804 - mae: 0.2024\n",
            "Epoch 21/30\n",
            "1/1 [==============================] - 0s 6ms/step - loss: 0.0792 - mae: 0.2013\n",
            "Epoch 22/30\n",
            "1/1 [==============================] - 0s 5ms/step - loss: 0.0780 - mae: 0.2003\n",
            "Epoch 23/30\n",
            "1/1 [==============================] - 0s 6ms/step - loss: 0.0769 - mae: 0.1993\n",
            "Epoch 24/30\n",
            "1/1 [==============================] - 0s 6ms/step - loss: 0.0758 - mae: 0.1983\n",
            "Epoch 25/30\n",
            "1/1 [==============================] - 0s 7ms/step - loss: 0.0747 - mae: 0.1973\n",
            "Epoch 26/30\n",
            "1/1 [==============================] - 0s 5ms/step - loss: 0.0737 - mae: 0.1964\n",
            "Epoch 27/30\n",
            "1/1 [==============================] - 0s 5ms/step - loss: 0.0728 - mae: 0.1954\n",
            "Epoch 28/30\n",
            "1/1 [==============================] - 0s 5ms/step - loss: 0.0718 - mae: 0.1945\n",
            "Epoch 29/30\n",
            "1/1 [==============================] - 0s 6ms/step - loss: 0.0709 - mae: 0.1936\n",
            "Epoch 30/30\n",
            "1/1 [==============================] - 0s 6ms/step - loss: 0.0701 - mae: 0.1928\n"
          ]
        },
        {
          "output_type": "execute_result",
          "data": {
            "text/plain": [
              "<keras.callbacks.History at 0x7f6156204f90>"
            ]
          },
          "metadata": {},
          "execution_count": 62
        }
      ]
    },
    {
      "cell_type": "code",
      "source": [
        "ylpredi2 = modelo2NN.predict(Xltest)\n",
        "r22 = r2_score(yltest,ylpredi2)\n",
        "print(r22)"
      ],
      "metadata": {
        "colab": {
          "base_uri": "https://localhost:8080/"
        },
        "id": "fr5z6HPDef0f",
        "outputId": "7186179d-db8c-4f14-a0a3-1e60b3b6a594"
      },
      "execution_count": 64,
      "outputs": [
        {
          "output_type": "stream",
          "name": "stdout",
          "text": [
            "-0.5445101110161139\n"
          ]
        }
      ]
    },
    {
      "cell_type": "markdown",
      "source": [
        "## Problema 2"
      ],
      "metadata": {
        "id": "DEWLevkR0Ro-"
      }
    },
    {
      "cell_type": "code",
      "source": [
        "\"\"\"\n",
        "Describe un modelo de clasificación para breast cancer\n",
        "\"\"\""
      ],
      "metadata": {
        "colab": {
          "base_uri": "https://localhost:8080/",
          "height": 35
        },
        "id": "r_V2HSQ30RVB",
        "outputId": "5dee4755-f86b-4381-8c94-9a6d2189ef99"
      },
      "execution_count": null,
      "outputs": [
        {
          "output_type": "execute_result",
          "data": {
            "application/vnd.google.colaboratory.intrinsic+json": {
              "type": "string"
            },
            "text/plain": [
              "'\\nDescribe un modelo de clasificación para breast cancer\\n'"
            ]
          },
          "metadata": {},
          "execution_count": 3
        }
      ]
    },
    {
      "cell_type": "markdown",
      "source": [
        "## Problema 3"
      ],
      "metadata": {
        "id": "Y2zJKPVN0YCJ"
      }
    },
    {
      "cell_type": "code",
      "source": [
        "\"\"\"\n",
        "Describe la gráfica del modelo anterior\n",
        "\"\"\""
      ],
      "metadata": {
        "colab": {
          "base_uri": "https://localhost:8080/",
          "height": 35
        },
        "id": "LGcFlgnE0Xb9",
        "outputId": "4e48facd-9ad2-4bf0-fe70-5412af212cc3"
      },
      "execution_count": null,
      "outputs": [
        {
          "output_type": "execute_result",
          "data": {
            "application/vnd.google.colaboratory.intrinsic+json": {
              "type": "string"
            },
            "text/plain": [
              "'\\nDescribe la gráfica del modelo anterior\\n'"
            ]
          },
          "metadata": {},
          "execution_count": 4
        }
      ]
    },
    {
      "cell_type": "markdown",
      "source": [
        "## Problema 4"
      ],
      "metadata": {
        "id": "g5ywKQy20eat"
      }
    },
    {
      "cell_type": "code",
      "source": [
        "\"\"\"\n",
        "Para un segundo modelo, gráfica la función de costo\n",
        "\"\"\""
      ],
      "metadata": {
        "id": "HdkeHEBd0d-7"
      },
      "execution_count": null,
      "outputs": []
    },
    {
      "cell_type": "markdown",
      "source": [
        "## Problema 5"
      ],
      "metadata": {
        "id": "1l3qSdaK08kX"
      }
    },
    {
      "cell_type": "code",
      "source": [
        "\"\"\"\n",
        "Reduce a 1D una imagen\n",
        "\"\"\""
      ],
      "metadata": {
        "colab": {
          "base_uri": "https://localhost:8080/",
          "height": 35
        },
        "id": "VxXf-b_q0-y6",
        "outputId": "b488d3b8-6407-4553-ce0c-c84c659e55b4"
      },
      "execution_count": null,
      "outputs": [
        {
          "output_type": "execute_result",
          "data": {
            "application/vnd.google.colaboratory.intrinsic+json": {
              "type": "string"
            },
            "text/plain": [
              "'\\nReduce a 1D una imagen\\n'"
            ]
          },
          "metadata": {},
          "execution_count": 5
        }
      ]
    },
    {
      "cell_type": "code",
      "source": [
        "# Define un modelo de regresión simple para la data de casas"
      ],
      "metadata": {
        "id": "srZlhDZk1EbN"
      },
      "execution_count": null,
      "outputs": []
    },
    {
      "cell_type": "code",
      "source": [
        "# Define un modelo de clasificación con deep learning para la data iris"
      ],
      "metadata": {
        "id": "N8tIDgWN1IUV"
      },
      "execution_count": null,
      "outputs": []
    },
    {
      "cell_type": "code",
      "source": [
        "# Define una imagen de un modelo para breast cancer"
      ],
      "metadata": {
        "id": "L0dK9gXl1M8a"
      },
      "execution_count": null,
      "outputs": []
    },
    {
      "cell_type": "code",
      "source": [
        "# Define una imagen y has una disminución de sus valores a 1D"
      ],
      "metadata": {
        "id": "d1qg0DYF1RQt"
      },
      "execution_count": null,
      "outputs": []
    }
  ]
}